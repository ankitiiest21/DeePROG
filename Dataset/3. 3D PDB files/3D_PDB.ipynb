{
 "cells": [
  {
   "cell_type": "code",
   "execution_count": null,
   "metadata": {},
   "outputs": [],
   "source": [
    "import pymol"
   ]
  },
  {
   "cell_type": "code",
   "execution_count": null,
   "metadata": {},
   "outputs": [],
   "source": [
    "from pymol import cmd\n"
   ]
  },
  {
   "cell_type": "markdown",
   "metadata": {},
   "source": [
    "## Now, we save all the `PDB ids` in the *`HumanPDBidz.txt`* file to download its 3D structure. "
   ]
  },
  {
   "cell_type": "code",
   "execution_count": null,
   "metadata": {
    "scrolled": false
   },
   "outputs": [],
   "source": [
    "File_object = open(r\"HumanPDBidz.txt\",\"r\")\n",
    "x= File_object.readlines()\n",
    "leth=len(x)\n",
    "for i in range (leth) :\n",
    "    x[i]=x[i].lower()\n",
    "    print(x[i])"
   ]
  },
  {
   "cell_type": "code",
   "execution_count": null,
   "metadata": {},
   "outputs": [],
   "source": [
    "# cmd.png('Links/x2.png')"
   ]
  },
  {
   "cell_type": "code",
   "execution_count": null,
   "metadata": {},
   "outputs": [],
   "source": [
    "v=[]\n"
   ]
  },
  {
   "cell_type": "code",
   "execution_count": null,
   "metadata": {},
   "outputs": [],
   "source": [
    "import os\n",
    "print(leth)"
   ]
  },
  {
   "cell_type": "markdown",
   "metadata": {},
   "source": [
    "## The next part is for downloading the 3D PDB structure from (Protein Data Bank)[https://www.rcsb.org/] website. After downloading the 3D structure, we rotate the 3D structure by 90 degree to capture the 360 degree view of the protein structure. "
   ]
  },
  {
   "cell_type": "code",
   "execution_count": null,
   "metadata": {},
   "outputs": [],
   "source": [
    "newpath ='D:/SripStage3/'\n",
    "#1691\n",
    "#20001\n",
    "for i in range (19922,leth) :\n",
    "    \n",
    "    print(\"Num-\"+str(i))\n",
    "    x[i]=x[i][0:4].lower()\n",
    "    PdbId=x[i]\n",
    "    zz=newpath+PdbId\n",
    "    f=0\n",
    "    if not os.path.exists(zz):\n",
    "        os.makedirs(zz)\n",
    "    else:\n",
    "        print(\"directory exists\")\n",
    "        continue\n",
    "        \n",
    "    try:\n",
    "        cmd.reinitialize()\n",
    "        pymol.cmd.load('ftp://ftp.wwpdb.org/pub/pdb/data/structures/all/pdb/pdb'+x[i]+'.ent.gz')               \n",
    "    except Exception as e:\n",
    "        print(e)\n",
    "        f=-1\n",
    "        print(i)\n",
    "        v.append(x[i])\n",
    "        break\n",
    "        \n",
    "    if f==0:\n",
    "#         print(i+1)\n",
    "#         cmd.png(zz+'/xx.png', 900, 900)\n",
    "        cmd.rotate('x',90)\n",
    "        cmd.png(zz+'/1.png', 900, 900)\n",
    "        cmd.rotate('x',90)\n",
    "        cmd.png(zz+'/2.png', 900, 900) \n",
    "        cmd.rotate('x',90)\n",
    "        cmd.png(zz+'/3.png', 900, 900) \n",
    "        cmd.rotate('x',90)\n",
    "        cmd.png(zz+'/4.png', 900, 900) \n",
    "        cmd.rotate('y',90)\n",
    "        cmd.png(zz+'/5.png', 900, 900) \n",
    "        cmd.rotate('y',90)\n",
    "        cmd.png(zz+'/6.png', 900, 900) \n",
    "        cmd.rotate('y',90)\n",
    "        cmd.png(zz+'/7.png', 900, 900)\n",
    "    else:\n",
    "        print(i)\n"
   ]
  }
 ],
 "metadata": {
  "kernelspec": {
   "display_name": "Python 3",
   "language": "python",
   "name": "python3"
  },
  "language_info": {
   "codemirror_mode": {
    "name": "ipython",
    "version": 3
   },
   "file_extension": ".py",
   "mimetype": "text/x-python",
   "name": "python",
   "nbconvert_exporter": "python",
   "pygments_lexer": "ipython3",
   "version": "3.6.5"
  }
 },
 "nbformat": 4,
 "nbformat_minor": 2
}
